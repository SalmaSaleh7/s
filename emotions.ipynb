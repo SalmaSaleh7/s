{
  "cells": [
    {
      "cell_type": "code",
      "execution_count": 23,
      "metadata": {},
      "outputs": [
        {
          "name": "stdout",
          "output_type": "stream",
          "text": [
            "Requirement already satisfied: tensorflow in c:\\users\\ramzy\\anaconda3\\envs\\tf\\lib\\site-packages (2.10.1)\n",
            "Requirement already satisfied: absl-py>=1.0.0 in c:\\users\\ramzy\\anaconda3\\envs\\tf\\lib\\site-packages (from tensorflow) (2.0.0)\n",
            "Requirement already satisfied: astunparse>=1.6.0 in c:\\users\\ramzy\\anaconda3\\envs\\tf\\lib\\site-packages (from tensorflow) (1.6.3)\n",
            "Requirement already satisfied: flatbuffers>=2.0 in c:\\users\\ramzy\\anaconda3\\envs\\tf\\lib\\site-packages (from tensorflow) (23.5.26)\n",
            "Requirement already satisfied: gast<=0.4.0,>=0.2.1 in c:\\users\\ramzy\\anaconda3\\envs\\tf\\lib\\site-packages (from tensorflow) (0.4.0)\n",
            "Requirement already satisfied: google-pasta>=0.1.1 in c:\\users\\ramzy\\anaconda3\\envs\\tf\\lib\\site-packages (from tensorflow) (0.2.0)\n",
            "Requirement already satisfied: h5py>=2.9.0 in c:\\users\\ramzy\\anaconda3\\envs\\tf\\lib\\site-packages (from tensorflow) (3.10.0)\n",
            "Requirement already satisfied: keras-preprocessing>=1.1.1 in c:\\users\\ramzy\\anaconda3\\envs\\tf\\lib\\site-packages (from tensorflow) (1.1.2)\n",
            "Requirement already satisfied: libclang>=13.0.0 in c:\\users\\ramzy\\anaconda3\\envs\\tf\\lib\\site-packages (from tensorflow) (16.0.6)\n",
            "Requirement already satisfied: numpy>=1.20 in c:\\users\\ramzy\\anaconda3\\envs\\tf\\lib\\site-packages (from tensorflow) (1.26.2)\n",
            "Requirement already satisfied: opt-einsum>=2.3.2 in c:\\users\\ramzy\\anaconda3\\envs\\tf\\lib\\site-packages (from tensorflow) (3.3.0)\n",
            "Requirement already satisfied: packaging in c:\\users\\ramzy\\anaconda3\\envs\\tf\\lib\\site-packages (from tensorflow) (23.2)\n",
            "Requirement already satisfied: protobuf<3.20,>=3.9.2 in c:\\users\\ramzy\\anaconda3\\envs\\tf\\lib\\site-packages (from tensorflow) (3.19.6)\n",
            "Requirement already satisfied: setuptools in c:\\users\\ramzy\\anaconda3\\envs\\tf\\lib\\site-packages (from tensorflow) (68.2.2)\n",
            "Requirement already satisfied: six>=1.12.0 in c:\\users\\ramzy\\anaconda3\\envs\\tf\\lib\\site-packages (from tensorflow) (1.16.0)\n",
            "Requirement already satisfied: termcolor>=1.1.0 in c:\\users\\ramzy\\anaconda3\\envs\\tf\\lib\\site-packages (from tensorflow) (2.4.0)\n",
            "Requirement already satisfied: typing-extensions>=3.6.6 in c:\\users\\ramzy\\anaconda3\\envs\\tf\\lib\\site-packages (from tensorflow) (4.9.0)\n",
            "Requirement already satisfied: wrapt>=1.11.0 in c:\\users\\ramzy\\anaconda3\\envs\\tf\\lib\\site-packages (from tensorflow) (1.16.0)\n",
            "Requirement already satisfied: tensorflow-io-gcs-filesystem>=0.23.1 in c:\\users\\ramzy\\anaconda3\\envs\\tf\\lib\\site-packages (from tensorflow) (0.31.0)\n",
            "Requirement already satisfied: grpcio<2.0,>=1.24.3 in c:\\users\\ramzy\\anaconda3\\envs\\tf\\lib\\site-packages (from tensorflow) (1.60.0)\n",
            "Requirement already satisfied: tensorboard<2.11,>=2.10 in c:\\users\\ramzy\\anaconda3\\envs\\tf\\lib\\site-packages (from tensorflow) (2.10.1)\n",
            "Requirement already satisfied: tensorflow-estimator<2.11,>=2.10.0 in c:\\users\\ramzy\\anaconda3\\envs\\tf\\lib\\site-packages (from tensorflow) (2.10.0)\n",
            "Requirement already satisfied: keras<2.11,>=2.10.0 in c:\\users\\ramzy\\anaconda3\\envs\\tf\\lib\\site-packages (from tensorflow) (2.10.0)\n",
            "Requirement already satisfied: wheel<1.0,>=0.23.0 in c:\\users\\ramzy\\anaconda3\\envs\\tf\\lib\\site-packages (from astunparse>=1.6.0->tensorflow) (0.41.2)\n",
            "Requirement already satisfied: google-auth<3,>=1.6.3 in c:\\users\\ramzy\\anaconda3\\envs\\tf\\lib\\site-packages (from tensorboard<2.11,>=2.10->tensorflow) (2.25.2)\n",
            "Requirement already satisfied: google-auth-oauthlib<0.5,>=0.4.1 in c:\\users\\ramzy\\anaconda3\\envs\\tf\\lib\\site-packages (from tensorboard<2.11,>=2.10->tensorflow) (0.4.6)\n",
            "Requirement already satisfied: markdown>=2.6.8 in c:\\users\\ramzy\\anaconda3\\envs\\tf\\lib\\site-packages (from tensorboard<2.11,>=2.10->tensorflow) (3.5.1)\n",
            "Requirement already satisfied: requests<3,>=2.21.0 in c:\\users\\ramzy\\anaconda3\\envs\\tf\\lib\\site-packages (from tensorboard<2.11,>=2.10->tensorflow) (2.31.0)\n",
            "Requirement already satisfied: tensorboard-data-server<0.7.0,>=0.6.0 in c:\\users\\ramzy\\anaconda3\\envs\\tf\\lib\\site-packages (from tensorboard<2.11,>=2.10->tensorflow) (0.6.1)\n",
            "Requirement already satisfied: tensorboard-plugin-wit>=1.6.0 in c:\\users\\ramzy\\anaconda3\\envs\\tf\\lib\\site-packages (from tensorboard<2.11,>=2.10->tensorflow) (1.8.1)\n",
            "Requirement already satisfied: werkzeug>=1.0.1 in c:\\users\\ramzy\\anaconda3\\envs\\tf\\lib\\site-packages (from tensorboard<2.11,>=2.10->tensorflow) (3.0.1)\n",
            "Requirement already satisfied: cachetools<6.0,>=2.0.0 in c:\\users\\ramzy\\anaconda3\\envs\\tf\\lib\\site-packages (from google-auth<3,>=1.6.3->tensorboard<2.11,>=2.10->tensorflow) (5.3.2)\n",
            "Requirement already satisfied: pyasn1-modules>=0.2.1 in c:\\users\\ramzy\\anaconda3\\envs\\tf\\lib\\site-packages (from google-auth<3,>=1.6.3->tensorboard<2.11,>=2.10->tensorflow) (0.3.0)\n",
            "Requirement already satisfied: rsa<5,>=3.1.4 in c:\\users\\ramzy\\anaconda3\\envs\\tf\\lib\\site-packages (from google-auth<3,>=1.6.3->tensorboard<2.11,>=2.10->tensorflow) (4.9)\n",
            "Requirement already satisfied: requests-oauthlib>=0.7.0 in c:\\users\\ramzy\\anaconda3\\envs\\tf\\lib\\site-packages (from google-auth-oauthlib<0.5,>=0.4.1->tensorboard<2.11,>=2.10->tensorflow) (1.3.1)\n",
            "Requirement already satisfied: importlib-metadata>=4.4 in c:\\users\\ramzy\\anaconda3\\envs\\tf\\lib\\site-packages (from markdown>=2.6.8->tensorboard<2.11,>=2.10->tensorflow) (7.0.1)\n",
            "Requirement already satisfied: charset-normalizer<4,>=2 in c:\\users\\ramzy\\anaconda3\\envs\\tf\\lib\\site-packages (from requests<3,>=2.21.0->tensorboard<2.11,>=2.10->tensorflow) (3.3.2)\n",
            "Requirement already satisfied: idna<4,>=2.5 in c:\\users\\ramzy\\anaconda3\\envs\\tf\\lib\\site-packages (from requests<3,>=2.21.0->tensorboard<2.11,>=2.10->tensorflow) (3.6)\n",
            "Requirement already satisfied: urllib3<3,>=1.21.1 in c:\\users\\ramzy\\anaconda3\\envs\\tf\\lib\\site-packages (from requests<3,>=2.21.0->tensorboard<2.11,>=2.10->tensorflow) (2.1.0)\n",
            "Requirement already satisfied: certifi>=2017.4.17 in c:\\users\\ramzy\\anaconda3\\envs\\tf\\lib\\site-packages (from requests<3,>=2.21.0->tensorboard<2.11,>=2.10->tensorflow) (2023.11.17)\n",
            "Requirement already satisfied: MarkupSafe>=2.1.1 in c:\\users\\ramzy\\anaconda3\\envs\\tf\\lib\\site-packages (from werkzeug>=1.0.1->tensorboard<2.11,>=2.10->tensorflow) (2.1.3)\n",
            "Requirement already satisfied: zipp>=0.5 in c:\\users\\ramzy\\anaconda3\\envs\\tf\\lib\\site-packages (from importlib-metadata>=4.4->markdown>=2.6.8->tensorboard<2.11,>=2.10->tensorflow) (3.17.0)\n",
            "Requirement already satisfied: pyasn1<0.6.0,>=0.4.6 in c:\\users\\ramzy\\anaconda3\\envs\\tf\\lib\\site-packages (from pyasn1-modules>=0.2.1->google-auth<3,>=1.6.3->tensorboard<2.11,>=2.10->tensorflow) (0.5.1)\n",
            "Requirement already satisfied: oauthlib>=3.0.0 in c:\\users\\ramzy\\anaconda3\\envs\\tf\\lib\\site-packages (from requests-oauthlib>=0.7.0->google-auth-oauthlib<0.5,>=0.4.1->tensorboard<2.11,>=2.10->tensorflow) (3.2.2)\n",
            "Requirement already satisfied: keras in c:\\users\\ramzy\\anaconda3\\envs\\tf\\lib\\site-packages (2.10.0)\n"
          ]
        }
      ],
      "source": [
        "!pip install tensorflow\n",
        "!pip install keras"
      ]
    },
    {
      "cell_type": "code",
      "execution_count": 24,
      "metadata": {},
      "outputs": [],
      "source": [
        "import keras\n",
        "import tensorflow as tf"
      ]
    },
    {
      "cell_type": "code",
      "execution_count": 25,
      "metadata": {
        "id": "ro80DdbULlMU"
      },
      "outputs": [],
      "source": [
        "import numpy as np\n",
        "#import os\n",
        "import pandas as pd\n",
        "#from sklearn.model_selection import train_test_split\n",
        "import matplotlib.pyplot as plt\n",
        "from IPython.display import Image\n",
        "import cv2\n",
        "#import random\n",
        "import tensorflow as tf\n",
        "from keras.preprocessing import image\n",
        "from keras.preprocessing.image import ImageDataGenerator\n",
        "from keras_preprocessing.image import load_img\n",
        "from keras import layers\n",
        "from keras.metrics import categorical_crossentropy\n",
        "from keras.models import Model, Sequential, load_model\n",
        "from keras.layers import Dense, GlobalAveragePooling2D, Dropout, MaxPooling2D, Flatten, Conv2D\n",
        "from keras.optimizers import Adam\n",
        "from keras.callbacks import ModelCheckpoint, EarlyStopping\n",
        "from keras.initializers import glorot_uniform\n"
      ]
    },
    {
      "cell_type": "code",
      "execution_count": 26,
      "metadata": {},
      "outputs": [
        {
          "name": "stdout",
          "output_type": "stream",
          "text": [
            "Requirement already satisfied: split-folders in c:\\users\\ramzy\\anaconda3\\envs\\tf\\lib\\site-packages (0.5.1)\n"
          ]
        }
      ],
      "source": [
        "!pip install split-folders"
      ]
    },
    {
      "cell_type": "code",
      "execution_count": 27,
      "metadata": {},
      "outputs": [
        {
          "name": "stderr",
          "output_type": "stream",
          "text": [
            "Copying files: 981 files [00:04, 209.54 files/s]\n"
          ]
        }
      ],
      "source": [
        "import splitfolders\n",
        "input_folder = r'C:\\Users\\ramzy\\OneDrive\\Documents\\AMM\\Images'\n",
        "output_folder = r'C:\\Users\\ramzy\\OneDrive\\Documents\\AMM\\mmdata'\n",
        "splitfolders.ratio(input_folder, output_folder, seed=42, ratio=(0.8, 0.1, 0.1))"
      ]
    },
    {
      "cell_type": "code",
      "execution_count": 28,
      "metadata": {},
      "outputs": [
        {
          "name": "stdout",
          "output_type": "stream",
          "text": [
            "True\n"
          ]
        }
      ],
      "source": [
        "print(tf.test.is_gpu_available())"
      ]
    },
    {
      "cell_type": "code",
      "execution_count": 29,
      "metadata": {
        "id": "lL9fSWAEMAS1"
      },
      "outputs": [],
      "source": [
        "target_size=(48,48) #provided by network resizing"
      ]
    },
    {
      "cell_type": "code",
      "execution_count": 30,
      "metadata": {
        "colab": {
          "base_uri": "https://localhost:8080/"
        },
        "id": "uNTrQ-wPMFxc",
        "outputId": "eeb670d1-2e45-40b9-df03-74b41daf5fa9"
      },
      "outputs": [
        {
          "name": "stdout",
          "output_type": "stream",
          "text": [
            "Found 783 images belonging to 7 classes.\n",
            "Found 94 images belonging to 7 classes.\n",
            "Found 94 images belonging to 7 classes.\n"
          ]
        }
      ],
      "source": [
        "train_datagen = ImageDataGenerator(\n",
        "    rescale=1./255, \n",
        "    shear_range=0.2,\n",
        "    horizontal_flip=True,)\n",
        "\n",
        "train_generator = train_datagen.flow_from_directory(\n",
        "    'mmdata/train',\n",
        "    target_size=target_size,\n",
        "    color_mode='rgb',\n",
        "    batch_size=32,\n",
        "    class_mode='categorical')\n",
        "\n",
        "validation_generator = train_datagen.flow_from_directory(\n",
        "    'mmdata/val',\n",
        "    target_size=target_size,\n",
        "    color_mode='rgb',\n",
        "    batch_size=32,\n",
        "    class_mode='categorical')\n",
        "\n",
        "datagen = ImageDataGenerator()\n",
        "test_generator = datagen.flow_from_directory(\n",
        "    'mmdata/val',\n",
        "    target_size=target_size,\n",
        "    color_mode='rgb',\n",
        "    batch_size=32,\n",
        "    class_mode='categorical')"
      ]
    },
    {
      "cell_type": "code",
      "execution_count": 31,
      "metadata": {
        "colab": {
          "base_uri": "https://localhost:8080/"
        },
        "id": "e4SZrN8VMIbW",
        "outputId": "c102c597-e63d-4218-f0c9-719719e6598e"
      },
      "outputs": [
        {
          "data": {
            "text/plain": [
              "(48, 48, 3)"
            ]
          },
          "execution_count": 31,
          "metadata": {},
          "output_type": "execute_result"
        }
      ],
      "source": [
        "train_generator.image_shape"
      ]
    },
    {
      "cell_type": "code",
      "execution_count": 32,
      "metadata": {
        "colab": {
          "base_uri": "https://localhost:8080/"
        },
        "id": "enWrNyWUMKDl",
        "outputId": "94238908-1214-4741-a51e-a899065580d6"
      },
      "outputs": [
        {
          "data": {
            "text/plain": [
              "{'anger': 0,\n",
              " 'contempt': 1,\n",
              " 'disgust': 2,\n",
              " 'fear': 3,\n",
              " 'happy': 4,\n",
              " 'sadness': 5,\n",
              " 'surprise': 6}"
            ]
          },
          "execution_count": 32,
          "metadata": {},
          "output_type": "execute_result"
        }
      ],
      "source": [
        "train_generator.class_indices"
      ]
    },
    {
      "cell_type": "code",
      "execution_count": 33,
      "metadata": {
        "id": "QGCV-wewMQ52"
      },
      "outputs": [],
      "source": [
        "model = tf.keras.Sequential([\n",
        "   tf.keras.layers.Conv2D(32, kernel_size=(3, 3), activation='relu', input_shape=(48,48,3)),\n",
        "   tf.keras.layers.MaxPool2D(pool_size=(2, 2)),\n",
        "   tf.keras.layers.Conv2D(64, kernel_size=(3, 3), activation='relu'),\n",
        "   tf.keras.layers.MaxPool2D(pool_size=(2, 2)),\n",
        "   tf.keras.layers.Conv2D(64, (3, 3), activation='relu'),\n",
        "   tf.keras.layers.MaxPool2D(pool_size=(2, 2)),\n",
        "   tf.keras.layers.Flatten(),\n",
        "   tf.keras.layers.Dense(64, activation='relu'),\n",
        "   tf.keras.layers.Dropout(rate=0.5),\n",
        "   tf.keras.layers.Dense(7, activation='softmax')\n",
        "])"
      ]
    },
    {
      "cell_type": "code",
      "execution_count": 34,
      "metadata": {},
      "outputs": [],
      "source": [
        "optimizer = tf.optimizers.Adam(learning_rate=0.001)\n",
        "model.compile(optimizer=optimizer, loss='categorical_crossentropy', metrics=['accuracy'])"
      ]
    },
    {
      "cell_type": "code",
      "execution_count": 35,
      "metadata": {
        "colab": {
          "base_uri": "https://localhost:8080/"
        },
        "id": "nZ77W0VcMkkl",
        "outputId": "3700eb4e-547e-4537-90b3-9476b6317cc6"
      },
      "outputs": [
        {
          "name": "stdout",
          "output_type": "stream",
          "text": [
            "Model: \"sequential_1\"\n",
            "_________________________________________________________________\n",
            " Layer (type)                Output Shape              Param #   \n",
            "=================================================================\n",
            " conv2d_3 (Conv2D)           (None, 46, 46, 32)        896       \n",
            "                                                                 \n",
            " max_pooling2d_3 (MaxPooling  (None, 23, 23, 32)       0         \n",
            " 2D)                                                             \n",
            "                                                                 \n",
            " conv2d_4 (Conv2D)           (None, 21, 21, 64)        18496     \n",
            "                                                                 \n",
            " max_pooling2d_4 (MaxPooling  (None, 10, 10, 64)       0         \n",
            " 2D)                                                             \n",
            "                                                                 \n",
            " conv2d_5 (Conv2D)           (None, 8, 8, 64)          36928     \n",
            "                                                                 \n",
            " max_pooling2d_5 (MaxPooling  (None, 4, 4, 64)         0         \n",
            " 2D)                                                             \n",
            "                                                                 \n",
            " flatten_1 (Flatten)         (None, 1024)              0         \n",
            "                                                                 \n",
            " dense_2 (Dense)             (None, 64)                65600     \n",
            "                                                                 \n",
            " dropout_1 (Dropout)         (None, 64)                0         \n",
            "                                                                 \n",
            " dense_3 (Dense)             (None, 7)                 455       \n",
            "                                                                 \n",
            "=================================================================\n",
            "Total params: 122,375\n",
            "Trainable params: 122,375\n",
            "Non-trainable params: 0\n",
            "_________________________________________________________________\n"
          ]
        }
      ],
      "source": [
        "model.summary()"
      ]
    },
    {
      "cell_type": "code",
      "execution_count": 36,
      "metadata": {
        "colab": {
          "base_uri": "https://localhost:8080/"
        },
        "id": "KlumRcl_Mm75",
        "outputId": "fc326310-e078-4c22-db8a-5e73d2218184"
      },
      "outputs": [
        {
          "name": "stdout",
          "output_type": "stream",
          "text": [
            "Epoch 1/50\n",
            "25/25 [==============================] - ETA: 0s - loss: 1.8762 - accuracy: 0.2082"
          ]
        },
        {
          "name": "stderr",
          "output_type": "stream",
          "text": [
            "Copying files: 677 files [00:22, 97.16 files/s]"
          ]
        },
        {
          "name": "stdout",
          "output_type": "stream",
          "text": [
            "25/25 [==============================] - 4s 149ms/step - loss: 1.8762 - accuracy: 0.2082 - val_loss: 1.8322 - val_accuracy: 0.2553\n",
            "Epoch 2/50\n",
            "25/25 [==============================] - 1s 26ms/step - loss: 1.8352 - accuracy: 0.2503 - val_loss: 1.7682 - val_accuracy: 0.4894\n",
            "Epoch 3/50\n",
            "25/25 [==============================] - 1s 24ms/step - loss: 1.7267 - accuracy: 0.3295 - val_loss: 1.5374 - val_accuracy: 0.5532\n",
            "Epoch 4/50\n",
            "25/25 [==============================] - 1s 24ms/step - loss: 1.4414 - accuracy: 0.4981 - val_loss: 1.1268 - val_accuracy: 0.6809\n",
            "Epoch 5/50\n",
            "25/25 [==============================] - 1s 24ms/step - loss: 1.1681 - accuracy: 0.5722 - val_loss: 0.9271 - val_accuracy: 0.7234\n",
            "Epoch 6/50\n",
            "25/25 [==============================] - 1s 24ms/step - loss: 1.0099 - accuracy: 0.6386 - val_loss: 0.7993 - val_accuracy: 0.7234\n",
            "Epoch 7/50\n",
            "25/25 [==============================] - 1s 24ms/step - loss: 0.8930 - accuracy: 0.6577 - val_loss: 0.7144 - val_accuracy: 0.7447\n",
            "Epoch 8/50\n",
            "25/25 [==============================] - 1s 24ms/step - loss: 0.8855 - accuracy: 0.6692 - val_loss: 0.6255 - val_accuracy: 0.7872\n",
            "Epoch 9/50\n",
            "25/25 [==============================] - 1s 23ms/step - loss: 0.7939 - accuracy: 0.6845 - val_loss: 0.5764 - val_accuracy: 0.7553\n",
            "Epoch 10/50\n",
            "25/25 [==============================] - 1s 24ms/step - loss: 0.7500 - accuracy: 0.7165 - val_loss: 0.5497 - val_accuracy: 0.8298\n",
            "Epoch 11/50\n",
            "25/25 [==============================] - 1s 24ms/step - loss: 0.6888 - accuracy: 0.7433 - val_loss: 0.5469 - val_accuracy: 0.7979\n",
            "Epoch 12/50\n",
            "25/25 [==============================] - 1s 24ms/step - loss: 0.6428 - accuracy: 0.7458 - val_loss: 0.4680 - val_accuracy: 0.8085\n",
            "Epoch 13/50\n",
            "25/25 [==============================] - 1s 23ms/step - loss: 0.6380 - accuracy: 0.7573 - val_loss: 0.4473 - val_accuracy: 0.8298\n",
            "Epoch 14/50\n",
            "25/25 [==============================] - 1s 24ms/step - loss: 0.5927 - accuracy: 0.7484 - val_loss: 0.4128 - val_accuracy: 0.8404\n",
            "Epoch 15/50\n",
            "25/25 [==============================] - 1s 23ms/step - loss: 0.5663 - accuracy: 0.7714 - val_loss: 0.4324 - val_accuracy: 0.8298\n",
            "Epoch 16/50\n",
            "25/25 [==============================] - 1s 23ms/step - loss: 0.5425 - accuracy: 0.8008 - val_loss: 0.3827 - val_accuracy: 0.8298\n",
            "Epoch 17/50\n",
            "25/25 [==============================] - 1s 24ms/step - loss: 0.5179 - accuracy: 0.7893 - val_loss: 0.3611 - val_accuracy: 0.8617\n",
            "Epoch 18/50\n",
            "25/25 [==============================] - 1s 26ms/step - loss: 0.5242 - accuracy: 0.7842 - val_loss: 0.3662 - val_accuracy: 0.8617\n",
            "Epoch 19/50\n",
            "25/25 [==============================] - 1s 27ms/step - loss: 0.4534 - accuracy: 0.8186 - val_loss: 0.2957 - val_accuracy: 0.8511\n",
            "Epoch 20/50\n",
            "25/25 [==============================] - 1s 27ms/step - loss: 0.4397 - accuracy: 0.8391 - val_loss: 0.3597 - val_accuracy: 0.8511\n",
            "Epoch 21/50\n",
            "25/25 [==============================] - 1s 25ms/step - loss: 0.5252 - accuracy: 0.7957 - val_loss: 0.3146 - val_accuracy: 0.8617\n",
            "Epoch 22/50\n",
            "25/25 [==============================] - 1s 26ms/step - loss: 0.4411 - accuracy: 0.8212 - val_loss: 0.2923 - val_accuracy: 0.8830\n",
            "Epoch 23/50\n",
            "25/25 [==============================] - 1s 25ms/step - loss: 0.4332 - accuracy: 0.8238 - val_loss: 0.2672 - val_accuracy: 0.8830\n",
            "Epoch 24/50\n",
            "25/25 [==============================] - 1s 25ms/step - loss: 0.4409 - accuracy: 0.8174 - val_loss: 0.2548 - val_accuracy: 0.8936\n",
            "Epoch 25/50\n",
            "25/25 [==============================] - 1s 26ms/step - loss: 0.4076 - accuracy: 0.8429 - val_loss: 0.2308 - val_accuracy: 0.8936\n",
            "Epoch 26/50\n",
            "25/25 [==============================] - 1s 26ms/step - loss: 0.4339 - accuracy: 0.8135 - val_loss: 0.2634 - val_accuracy: 0.8936\n",
            "Epoch 27/50\n",
            "25/25 [==============================] - 1s 24ms/step - loss: 0.3878 - accuracy: 0.8352 - val_loss: 0.2643 - val_accuracy: 0.8830\n",
            "Epoch 28/50\n",
            "25/25 [==============================] - 1s 25ms/step - loss: 0.4077 - accuracy: 0.8416 - val_loss: 0.1859 - val_accuracy: 0.9362\n",
            "Epoch 29/50\n",
            "25/25 [==============================] - 1s 25ms/step - loss: 0.4282 - accuracy: 0.8263 - val_loss: 0.2437 - val_accuracy: 0.9043\n",
            "Epoch 30/50\n",
            "25/25 [==============================] - 1s 25ms/step - loss: 0.3647 - accuracy: 0.8544 - val_loss: 0.2191 - val_accuracy: 0.9362\n",
            "Epoch 31/50\n",
            "25/25 [==============================] - 1s 26ms/step - loss: 0.3916 - accuracy: 0.8314 - val_loss: 0.2110 - val_accuracy: 0.9043\n",
            "Epoch 32/50\n",
            "25/25 [==============================] - 1s 24ms/step - loss: 0.3648 - accuracy: 0.8582 - val_loss: 0.2060 - val_accuracy: 0.8936\n",
            "Epoch 33/50\n",
            "25/25 [==============================] - 1s 25ms/step - loss: 0.3660 - accuracy: 0.8557 - val_loss: 0.1728 - val_accuracy: 0.9149\n",
            "Epoch 34/50\n",
            "25/25 [==============================] - 1s 25ms/step - loss: 0.3484 - accuracy: 0.8710 - val_loss: 0.2145 - val_accuracy: 0.9149\n",
            "Epoch 35/50\n",
            "25/25 [==============================] - 1s 25ms/step - loss: 0.3207 - accuracy: 0.8825 - val_loss: 0.2470 - val_accuracy: 0.9043\n",
            "Epoch 36/50\n",
            "25/25 [==============================] - 1s 25ms/step - loss: 0.3277 - accuracy: 0.8633 - val_loss: 0.1610 - val_accuracy: 0.9149\n",
            "Epoch 37/50\n",
            "25/25 [==============================] - 1s 24ms/step - loss: 0.3140 - accuracy: 0.8570 - val_loss: 0.1954 - val_accuracy: 0.9255\n",
            "Epoch 38/50\n",
            "25/25 [==============================] - 1s 25ms/step - loss: 0.3680 - accuracy: 0.8582 - val_loss: 0.1645 - val_accuracy: 0.9468\n",
            "Epoch 39/50\n",
            "25/25 [==============================] - 1s 25ms/step - loss: 0.3172 - accuracy: 0.8646 - val_loss: 0.2545 - val_accuracy: 0.9043\n",
            "Epoch 40/50\n",
            "25/25 [==============================] - 1s 24ms/step - loss: 0.3606 - accuracy: 0.8544 - val_loss: 0.2123 - val_accuracy: 0.9362\n",
            "Epoch 41/50\n",
            "25/25 [==============================] - 1s 25ms/step - loss: 0.3169 - accuracy: 0.8787 - val_loss: 0.1504 - val_accuracy: 0.9681\n",
            "Epoch 42/50\n",
            "25/25 [==============================] - 1s 25ms/step - loss: 0.3160 - accuracy: 0.8761 - val_loss: 0.1495 - val_accuracy: 0.9362\n",
            "Epoch 43/50\n",
            "25/25 [==============================] - 1s 24ms/step - loss: 0.3444 - accuracy: 0.8621 - val_loss: 0.1996 - val_accuracy: 0.9468\n",
            "Epoch 44/50\n",
            "25/25 [==============================] - 1s 25ms/step - loss: 0.3366 - accuracy: 0.8723 - val_loss: 0.1807 - val_accuracy: 0.9681\n",
            "Epoch 45/50\n",
            "25/25 [==============================] - 1s 25ms/step - loss: 0.3037 - accuracy: 0.8697 - val_loss: 0.1494 - val_accuracy: 0.9362\n",
            "Epoch 46/50\n",
            "25/25 [==============================] - 1s 25ms/step - loss: 0.2771 - accuracy: 0.8978 - val_loss: 0.1608 - val_accuracy: 0.9468\n",
            "Epoch 47/50\n",
            "25/25 [==============================] - 1s 24ms/step - loss: 0.3244 - accuracy: 0.8774 - val_loss: 0.2023 - val_accuracy: 0.9043\n",
            "Epoch 48/50\n",
            "25/25 [==============================] - 1s 25ms/step - loss: 0.2787 - accuracy: 0.8787 - val_loss: 0.1281 - val_accuracy: 0.9681\n",
            "Epoch 49/50\n",
            "25/25 [==============================] - 1s 25ms/step - loss: 0.2941 - accuracy: 0.8863 - val_loss: 0.1627 - val_accuracy: 0.9255\n",
            "Epoch 50/50\n",
            "25/25 [==============================] - 1s 25ms/step - loss: 0.2590 - accuracy: 0.9004 - val_loss: 0.2595 - val_accuracy: 0.9468\n"
          ]
        }
      ],
      "source": [
        "early_stopping = EarlyStopping(monitor='val_loss', patience=5, verbose=0)\n",
        "history = model.fit(train_generator, epochs=50, batch_size=32, validation_data=validation_generator, callbacks=[early_stopping])"
      ]
    },
    {
      "cell_type": "code",
      "execution_count": 37,
      "metadata": {
        "colab": {
          "base_uri": "https://localhost:8080/",
          "height": 887
        },
        "id": "zm_mWhj0MpSu",
        "outputId": "93e20d56-649d-4747-8223-b3c016aaf824"
      },
      "outputs": [
        {
          "data": {
            "image/png": "[encoded data removed]",
            "text/plain": [
              "<Figure size 640x480 with 1 Axes>"
            ]
          },
          "metadata": {},
          "output_type": "display_data"
        },
        {
          "data": {
            "image/png": "[encoded data removed]",
            "text/plain": [
              "<Figure size 640x480 with 1 Axes>"
            ]
          },
          "metadata": {},
          "output_type": "display_data"
        }
      ],
      "source": [
        "accuracy = history.history['accuracy']\n",
        "val_accuracy = history.history['val_accuracy']\n",
        "loss = history.history['loss']\n",
        "val_loss = history.history['val_loss']\n",
        "epochs = range(1, len(accuracy) + 1)\n",
        "#Train and validation accuracy\n",
        "plt.plot(epochs, accuracy, 'b', label='Training accurarcy')\n",
        "plt.plot(epochs, val_accuracy, 'r', label='Validation accurarcy')\n",
        "plt.title('Training and Validation accurarcy')\n",
        "plt.legend()\n",
        "\n",
        "plt.figure() # to plot new figure\n",
        "#Train and validation loss\n",
        "plt.plot(epochs, loss, 'b', label='Training loss')\n",
        "plt.plot(epochs, val_loss, 'r', label='Validation loss')\n",
        "plt.title('Training and Validation loss')\n",
        "plt.legend()\n",
        "plt.show()"
      ]
    },
    {
      "cell_type": "code",
      "execution_count": 38,
      "metadata": {},
      "outputs": [
        {
          "name": "stderr",
          "output_type": "stream",
          "text": [
            "WARNING:absl:Found untraced functions such as _jit_compiled_convolution_op, _jit_compiled_convolution_op, _jit_compiled_convolution_op while saving (showing 3 of 3). These functions will not be directly callable after loading.\n"
          ]
        },
        {
          "name": "stdout",
          "output_type": "stream",
          "text": [
            "INFO:tensorflow:Assets written to: modelfinall\\assets\n"
          ]
        },
        {
          "name": "stderr",
          "output_type": "stream",
          "text": [
            "INFO:tensorflow:Assets written to: modelfinall\\assets\n"
          ]
        }
      ],
      "source": [
        "model.save(\"modelfinall\")"
      ]
    },
    {
      "cell_type": "code",
      "execution_count": 39,
      "metadata": {},
      "outputs": [
        {
          "name": "stdout",
          "output_type": "stream",
          "text": [
            "3/3 [==============================] - 0s 8ms/step - loss: 46.9775 - accuracy: 0.8830\n",
            "Test Accuracy: 0.8829787373542786\n"
          ]
        }
      ],
      "source": [
        "test_loss, test_acc = model.evaluate(test_generator)\n",
        "print(f'Test Accuracy: {test_acc}')"
      ]
    },
    {
      "cell_type": "code",
      "execution_count": 42,
      "metadata": {},
      "outputs": [
        {
          "name": "stdout",
          "output_type": "stream",
          "text": [
            "1/1 [==============================] - 0s 52ms/step\n",
            "Anger: 99.91%\n",
            "Contempt: 0.00%\n",
            "Disgust: 0.07%\n",
            "Fear: 0.00%\n",
            "Happy: 0.00%\n",
            "Sadness: 0.03%\n",
            "Surprise: 0.00%\n"
          ]
        },
        {
          "data": {
            "image/png": "[encoded data removed]",
            "text/plain": [
              "<Figure size 640x480 with 1 Axes>"
            ]
          },
          "metadata": {},
          "output_type": "display_data"
        }
      ],
      "source": [
        "import PIL \n",
        "model = tf.keras.models.load_model('modelfinall')\n",
        "emotion_labels = ['anger', 'contempt', 'disgust', 'fear', 'happy', 'sadness', 'surprise']\n",
        "image_path = r'mmdata/test/anger/S032_003_00000016.png' \n",
        "img = tf.keras.preprocessing.image.load_img(image_path, target_size=(48, 48))  \n",
        "img_array = tf.keras.preprocessing.image.img_to_array(img) \n",
        "img_array = tf.expand_dims(img_array, 0)  # Add batch dimension \n",
        "img_array = img_array / 255.0  # Normalize pixel values \n",
        "predictions = model.predict(img_array) \n",
        "predicted_class_index = np.argmax(predictions) \n",
        "labels = emotion_labels  \n",
        "predicted_emotion = emotion_labels[predicted_class_index] \n",
        "for label, score in zip(emotion_labels, predictions[0]):     \n",
        "     print(f\"{label.capitalize()}: {score * 100:.2f}%\") \n",
        "plt.imshow(img, interpolation='nearest') \n",
        "plt.title(f'Predicted Emotion: {predicted_emotion}') \n",
        "plt.axis('off') \n",
        "plt.show()"
      ]
    },
    {
      "cell_type": "markdown",
      "metadata": {},
      "source": [
        "import cv2\n",
        "import numpy as np\n",
        "import tensorflow as tf\n",
        "\n",
        "# Load your trained model\n",
        "model = tf.keras.models.load_model('modelfinall')  # Assuming this is your trained emotion recognition model\n",
        "\n",
        "# Function to predict emotion from an image\n",
        "def predict_emotion(img):\n",
        "    # Preprocess the image (resize, normalize, etc.) similarly to how you did for test images\n",
        "    img = cv2.resize(img, (48, 48))\n",
        "    img = img.astype('float32') / 255.0\n",
        "    img = np.expand_dims(img, axis=0)\n",
        "\n",
        "    # Perform emotion prediction\n",
        "    predictions = model.predict(img)\n",
        "    return predictions\n",
        "\n",
        "# Open the laptop camera\n",
        "cap = cv2.VideoCapture(0)  # 0 for default camera, you can change it if you have multiple cameras\n",
        "\n",
        "while True:\n",
        "    ret, frame = cap.read()\n",
        "    if not ret:\n",
        "        break\n",
        "\n",
        "    # Perform face detection on the frame\n",
        "    # Replace this part with your preferred face detection method (using OpenCV or a face detection model)\n",
        "    # For example, you can use OpenCV's haarcascade for face detection:\n",
        "    face_cascade = cv2.CascadeClassifier(cv2.data.haarcascades + 'haarcascade_frontalface_default.xml')\n",
        "    gray = cv2.cvtColor(frame, cv2.COLOR_BGR2GRAY)\n",
        "    faces = face_cascade.detectMultiScale(gray, scaleFactor=1.3, minNeighbors=5)\n",
        "\n",
        "    # For demo purposes, let's assume face detection returns a single face in the frame\n",
        "    # If you're using a different face detection method, replace this assumption accordingly\n",
        "    # Perform emotion prediction only if a face is detected\n",
        "    if len(faces) > 0:\n",
        "        # Get the detected face region\n",
        "        x, y, w, h = faces[0]\n",
        "        face_roi = frame[y:y + h, x:x + w]\n",
        "\n",
        "        # Predict emotion using the detected face\n",
        "        predictions = predict_emotion(face_roi)\n",
        "\n",
        "        # Get the predicted emotion label\n",
        "        labels = label\n",
        "        predicted_class_index = np.argmax(predictions)\n",
        "        predicted_emotion = labels[predicted_class_index]\n",
        "\n",
        "        # Display the predicted emotion on the frame\n",
        "        cv2.putText(frame, f\"Emotion: {predicted_emotion}\", (x, y - 10), cv2.FONT_HERSHEY_SIMPLEX, 0.9, (0, 255, 0), 2)\n",
        "    \n",
        "    # Display the frame\n",
        "    cv2.imshow('Emotion Recognition', frame)\n",
        "    \n",
        "    # Press 'q' to exit the video stream\n",
        "    if cv2.waitKey(1) & 0xFF == ord('q'):\n",
        "        break\n",
        "\n",
        "# Release the camera and close all OpenCV windows\n",
        "cap.release()\n",
        "cv2.destroyAllWindows()\n"
      ]
    }
  ],
  "metadata": {
    "accelerator": "GPU",
    "colab": {
      "provenance": []
    },
    "kernelspec": {
      "display_name": "Python 3 (ipykernel)",
      "language": "python",
      "name": "python3"
    },
    "language_info": {
      "codemirror_mode": {
        "name": "ipython",
        "version": 3
      },
      "file_extension": ".py",
      "mimetype": "text/x-python",
      "name": "python",
      "nbconvert_exporter": "python",
      "pygments_lexer": "ipython3",
      "version": "3.9.18"
    }
  },
  "nbformat": 4,
  "nbformat_minor": 0
}
